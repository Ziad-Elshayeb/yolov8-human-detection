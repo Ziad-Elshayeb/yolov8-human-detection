{
 "cells": [
  {
   "cell_type": "code",
   "execution_count": 2,
   "metadata": {},
   "outputs": [],
   "source": [
    "from ultralytics import YOLO\n",
    "\n",
    "# Load a YOLOv8 model (you can choose different versions like yolov8n, yolov8s, yolov8m, yolov8l, yolov8x)\n",
    "model = YOLO('yolov8n.pt')  # 'n' stands for nano model, you can also use 'yolov8s.pt' for small model, etc."
   ]
  },
  {
   "cell_type": "code",
   "execution_count": null,
   "metadata": {},
   "outputs": [],
   "source": [
    "# Train the model with early stopping\n",
    "results = model.train(\n",
    "    data='data.yaml',  # Path to dataset configuration\n",
    "    epochs=100,        # Maximum number of epochs\n",
    "    batch=32,          # Batch size\n",
    "    name='final_train',# Name of the run\n",
    "    device='0'         # Use GPU\n",
    ")"
   ]
  },
  {
   "cell_type": "code",
   "execution_count": 4,
   "metadata": {},
   "outputs": [],
   "source": [
    "# Save the model\n",
    "model.save('yolov8-human-detection_model.pt')"
   ]
  }
 ],
 "metadata": {
  "kernelspec": {
   "display_name": "pytorch-gpu",
   "language": "python",
   "name": "python3"
  },
  "language_info": {
   "codemirror_mode": {
    "name": "ipython",
    "version": 3
   },
   "file_extension": ".py",
   "mimetype": "text/x-python",
   "name": "python",
   "nbconvert_exporter": "python",
   "pygments_lexer": "ipython3",
   "version": "3.9.19"
  }
 },
 "nbformat": 4,
 "nbformat_minor": 2
}
